{
  "nbformat": 4,
  "nbformat_minor": 0,
  "metadata": {
    "colab": {
      "provenance": []
    },
    "kernelspec": {
      "name": "python3",
      "display_name": "Python 3"
    },
    "language_info": {
      "name": "python"
    }
  },
  "cells": [
    {
      "cell_type": "code",
      "execution_count": 6,
      "metadata": {
        "colab": {
          "base_uri": "https://localhost:8080/"
        },
        "id": "fSZCx8jRTFDe",
        "outputId": "f55dcd1b-1e3b-4420-ac74-e017456f7fc2"
      },
      "outputs": [
        {
          "output_type": "stream",
          "name": "stdout",
          "text": [
            "Requirement already satisfied: pyqrcode in /usr/local/lib/python3.11/dist-packages (1.2.1)\n"
          ]
        }
      ],
      "source": [
        "pip install pyqrcode\n"
      ]
    },
    {
      "cell_type": "code",
      "source": [
        "pip install pypng"
      ],
      "metadata": {
        "colab": {
          "base_uri": "https://localhost:8080/"
        },
        "id": "FotQFb9DPUf8",
        "outputId": "d9d0fd7f-ddb3-427e-ccfc-b57e7a46528e"
      },
      "execution_count": 7,
      "outputs": [
        {
          "output_type": "stream",
          "name": "stdout",
          "text": [
            "Requirement already satisfied: pypng in /usr/local/lib/python3.11/dist-packages (0.20220715.0)\n"
          ]
        }
      ]
    },
    {
      "cell_type": "code",
      "source": [
        "import pyqrcode\n",
        "import png\n",
        "from pyqrcode import QRCode\n",
        "\n",
        "data=\"Call me on 7999886763 for any open opportunities!!\""
      ],
      "metadata": {
        "id": "VMDbQzh0TLmd"
      },
      "execution_count": 8,
      "outputs": []
    },
    {
      "cell_type": "code",
      "source": [
        "url = pyqrcode.create(data)"
      ],
      "metadata": {
        "id": "CBskz4amTpWV"
      },
      "execution_count": 9,
      "outputs": []
    },
    {
      "cell_type": "code",
      "source": [
        "url.png('myqr.png', scale = 6)"
      ],
      "metadata": {
        "id": "CgIwoSXnPoq_"
      },
      "execution_count": 10,
      "outputs": []
    }
  ]
}